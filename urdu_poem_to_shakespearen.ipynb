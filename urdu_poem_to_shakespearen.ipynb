{
 "cells": [
  {
   "cell_type": "code",
   "execution_count": 24,
   "id": "0c15ee61-091a-4488-b0e8-2c53b51b164f",
   "metadata": {},
   "outputs": [],
   "source": [
    "from transformers import MarianMTModel, MarianTokenizer"
   ]
  },
  {
   "cell_type": "markdown",
   "id": "9f46b65d-ecc4-4d6b-8a21-e3f882f8aa08",
   "metadata": {},
   "source": [
    "## Urdu to English translation on our fine-tuned model based on 'helsinki/opus-ur-en'"
   ]
  },
  {
   "cell_type": "code",
   "execution_count": 25,
   "id": "a9518368-bd2d-498f-a682-02080d6ef1c3",
   "metadata": {},
   "outputs": [],
   "source": [
    "model_name = \"helsinki-ur-en-model\"\n",
    "tokenizer = MarianTokenizer.from_pretrained(model_name)\n",
    "model = MarianMTModel.from_pretrained(model_name)"
   ]
  },
  {
   "cell_type": "code",
   "execution_count": 55,
   "id": "c67fe62b-94ee-4504-95a1-c5b04dc09cf7",
   "metadata": {},
   "outputs": [],
   "source": [
    "urdu_poetry_ghazal = [\"اب کے ہم بچھڑے تو شاید کبھی خوابوں میں ملیں \",\n",
    "                      \"جس طرح سوکھے ہوئے پھول کتابوں میں ملیں\",\n",
    "                      \"ڈھونڈ اجڑے ہوئے لوگوں میں وفا کے موتی\" ,\n",
    "                      \"یہ خزانے تجھے ممکن ہے خرابوں میں ملیں\"\n",
    "                      ,\"غم دنیا بھی غم یار میں شامل کر لو\" ,\n",
    "                      \"نشہ بڑھتا ہے شرابیں جو شرابوں میں ملیں\",\n",
    "                      \"تو خدا ہے نہ مرا عشق فرشتوں جیسا\",\n",
    "                      \"دونوں انساں ہیں تو کیوں اتنے حجابوں میں ملیں\" ,\n",
    "                      \"آج ہم دار پہ کھینچے گئے جن باتوں پر\",\n",
    "                      \"کیا عجب کل وہ زمانے کو نصابوں میں ملیں \",\n",
    "                      \"اب نہ وہ میں نہ وہ تو ہے نہ وہ ماضی ہے فرازؔ \",\n",
    "                      \"جیسے دو شخص تمنا کے سرابوں میں ملیں\" ]"
   ]
  },
  {
   "cell_type": "code",
   "execution_count": 58,
   "id": "732d7906-edf2-4d05-8084-176dab1e8c39",
   "metadata": {},
   "outputs": [],
   "source": [
    "modern_english_poetry = []\n",
    "for poem in urdu_poetry_ghazal:\n",
    "    \n",
    "    translated = model.generate(**tokenizer(poem, return_tensors=\"pt\", padding=True))\n",
    "    english_poetry = [tokenizer.decode(t, skip_special_tokens=True) for t in translated]\n",
    "    modern_english_poetry.append(english_poetry)"
   ]
  },
  {
   "cell_type": "code",
   "execution_count": 59,
   "id": "8831bde9-ec8f-4e70-ac90-ed8781bd5eb6",
   "metadata": {},
   "outputs": [
    {
     "data": {
      "text/plain": [
       "[['now we have the calf. maybe............'],\n",
       " ['as the likeness of molten copper,'],\n",
       " [', for the pearl of mine, in the desert,,'],\n",
       " ['- you can get this treasures possible.!!!!!!!'],\n",
       " ['( a friend ). save............'],\n",
       " ['( alcohol abuse and alcohol) keeps them on high.'],\n",
       " [', then, is not God, as the angels.'],\n",
       " ['so why have they found so many sides in the barrier?'],\n",
       " ['Today we are driven on on ( the ), of the things on which we have been caught.'],\n",
       " ['- Ah, they were found in the books, the books,.!!!!!!!!'],\n",
       " [\"now he is neither, nor it's the past.\"],\n",
       " ['like two man, at the,,,,,,.']]"
      ]
     },
     "execution_count": 59,
     "metadata": {},
     "output_type": "execute_result"
    }
   ],
   "source": [
    "modern_english_poetry"
   ]
  },
  {
   "cell_type": "markdown",
   "id": "2e0cc9e3-a4e1-4b3e-9992-645033cdf0ed",
   "metadata": {},
   "source": [
    "## Style Transfer through our fine-tuned model based on 'Iacopo/Shakespear-GPT2' "
   ]
  },
  {
   "cell_type": "code",
   "execution_count": 62,
   "id": "1f2d3251-2672-47be-a449-e9627bf24f81",
   "metadata": {},
   "outputs": [],
   "source": [
    "from transformers import AutoModelForCausalLM, AutoTokenizer\n",
    "\n",
    "model_name = 'shakespeare_iacopo'\n",
    "tokenizer = AutoTokenizer.from_pretrained(model_name)\n",
    "model = AutoModelForCausalLM.from_pretrained(model_name)"
   ]
  },
  {
   "cell_type": "code",
   "execution_count": 63,
   "id": "5ee962e6-cb5e-4508-a3bd-7f78bb9ca379",
   "metadata": {},
   "outputs": [],
   "source": [
    "from transformers import pipeline\n",
    "generator = pipeline('text-generation', model=model, tokenizer=tokenizer)"
   ]
  },
  {
   "cell_type": "code",
   "execution_count": 68,
   "id": "311f18ae-65f2-4abf-a10b-963c1f37f2ce",
   "metadata": {},
   "outputs": [
    {
     "name": "stderr",
     "output_type": "stream",
     "text": [
      "Setting `pad_token_id` to `eos_token_id`:50256 for open-end generation.\n",
      "Setting `pad_token_id` to `eos_token_id`:50256 for open-end generation.\n",
      "Setting `pad_token_id` to `eos_token_id`:50256 for open-end generation.\n",
      "Setting `pad_token_id` to `eos_token_id`:50256 for open-end generation.\n",
      "Setting `pad_token_id` to `eos_token_id`:50256 for open-end generation.\n",
      "Setting `pad_token_id` to `eos_token_id`:50256 for open-end generation.\n",
      "Setting `pad_token_id` to `eos_token_id`:50256 for open-end generation.\n",
      "Setting `pad_token_id` to `eos_token_id`:50256 for open-end generation.\n",
      "Setting `pad_token_id` to `eos_token_id`:50256 for open-end generation.\n",
      "Setting `pad_token_id` to `eos_token_id`:50256 for open-end generation.\n",
      "Setting `pad_token_id` to `eos_token_id`:50256 for open-end generation.\n",
      "Setting `pad_token_id` to `eos_token_id`:50256 for open-end generation.\n"
     ]
    }
   ],
   "source": [
    "shakespearean_english = []\n",
    "for pivot in modern_english_poetry:\n",
    "     shakespearean = generator('<s>'+ pivot[0]+'</s>>>>><p>')\n",
    "     shakespearean_english.append(shakespearean)"
   ]
  },
  {
   "cell_type": "code",
   "execution_count": 69,
   "id": "68ab771b-eaca-4684-9c5f-2d8224e561fb",
   "metadata": {},
   "outputs": [
    {
     "data": {
      "text/plain": [
       "[[{'generated_text': \"<s>now we have the calf. maybe............</s>>>>><p>there, i'll give it to them.<p>why, i'll give it to them.<p>they, what a goddess they are! we have\"}],\n",
       " [{'generated_text': '<s>as the likeness of molten copper,</s>>>>><p>as molten copper,As the likeness of molten copper in heaven,.<p>as molten copper,As the likeness of molten copper,As molten copper in a throne,'}],\n",
       " [{'generated_text': '<s>, for the pearl of mine, in the desert,,</s>>>>><p> for the pearl of mine, in the desert,,<p> for the pearl of mine, in the desert,...<p> for the pearl of mine'}],\n",
       " [{'generated_text': '<s>- you can get this treasures possible.!!!!!!!</s>>>>><p>- you can obtain this treasures possible.<p>- you can obtain this treasures possible.<p>- you can obtain this treasures possible.<p>-'}],\n",
       " [{'generated_text': '<s>( a friend ). save............</s>>>>><p>you are a friend, a friend!<p>your peace, yours.<p>a friend, a friend!<p>a friend, a friend!<p'}],\n",
       " [{'generated_text': '<s>( alcohol abuse and alcohol) keeps them on high.</s>>>>><p>and people have come to drink. I am sorry for my absence, but I shall speak. I do need to acquaint you of your presence.<p>let'}],\n",
       " [{'generated_text': '<s>, then, is not God, as the angels.</s>>>>><p>it is God; it is God is, therefore, and his name is king.<p>not God, as these creatures are God.<p>God,'}],\n",
       " [{'generated_text': '<s>so why have they found so many sides in the barrier?</s>>>>><p>why are they so determined to break this in half?<p>why have they not heard how the shield is to be broken up there?'}],\n",
       " [{'generated_text': '<s>Today we are driven on on ( the ), of the things on which we have been caught.</s>>>>><p>for the thing on which we know, our prey: we were slain thus, and presently have been caught.<'}],\n",
       " [{'generated_text': '<s>- Ah, they were found in the books, the books,.!!!!!!!!</s>>>>><p>they were found there, and thereupon they were banished.<p>they were banished, banished, banished.<p>they were banished'}],\n",
       " [{'generated_text': \"<s>now he is neither, nor it's the past.</s>>>>><p>now he is none, not nothing but the past.<p>now he is nothing but a past.<p>now he is nothing but a past.<\"}],\n",
       " [{'generated_text': '<s>like two man, at the,,,,,,.</s>>>>><p>like two man, at the,,,,,,,,,,,,,,,,.<p>like two man, at::::.<p>like eight man, at::::.<p>like ten man,...'}]]"
      ]
     },
     "execution_count": 69,
     "metadata": {},
     "output_type": "execute_result"
    }
   ],
   "source": [
    "shakespearean_english"
   ]
  },
  {
   "cell_type": "code",
   "execution_count": null,
   "id": "f8d96e0e-e9b3-4860-b2d1-050906550c47",
   "metadata": {},
   "outputs": [],
   "source": []
  }
 ],
 "metadata": {
  "kernelspec": {
   "display_name": "Python 3",
   "language": "python",
   "name": "python3"
  },
  "language_info": {
   "codemirror_mode": {
    "name": "ipython",
    "version": 3
   },
   "file_extension": ".py",
   "mimetype": "text/x-python",
   "name": "python",
   "nbconvert_exporter": "python",
   "pygments_lexer": "ipython3",
   "version": "3.8.8"
  }
 },
 "nbformat": 4,
 "nbformat_minor": 5
}
